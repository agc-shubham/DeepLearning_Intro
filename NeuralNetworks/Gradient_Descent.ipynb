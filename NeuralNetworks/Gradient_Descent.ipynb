{
 "cells": [
  {
   "cell_type": "markdown",
   "id": "ad08822e",
   "metadata": {},
   "source": [
    "# Gradient Calculation\n",
    "\n",
    "In the last few videos, we learned that in order to minimize the error function, we need to take some derivatives. So let's get our hands dirty and actually compute the derivative of the error function. The first thing to notice is that the sigmoid function has a really nice derivative. Namely,\n",
    "\n",
    "σ′(x)=σ(x)(1−σ(x))σ′(x)=σ(x)(1−σ(x))\n",
    "\n",
    "The reason for this is the following, we can calculate it using the quotient formula:"
   ]
  },
  {
   "cell_type": "markdown",
   "id": "705ad5ca",
   "metadata": {},
   "source": [
    "![Sigmoid Derivative Formula](codecogseqn-49.gif)"
   ]
  },
  {
   "cell_type": "markdown",
   "id": "a1b161fb",
   "metadata": {},
   "source": [
    "[Calculation of Gradient](https://learn.udacity.com/courses/ud188/lessons/ccbf054a-51d9-4da2-a51c-b7e0d27a0a15/concepts/2d9c41f5-4881-4675-a5d4-2e44ad7aec90?_gl=1*qt1g13*_gcl_aw*R0NMLjE3NDY4MjE2MjguQ2p3S0NBand6X2JBQmhBR0Vpd0FtLVA4WVF0UXFBbWVSeFNrck5zYkdPWThZdS1BTjNYU01keDFpOGcyWkFIb1pYY01nTC1TWnY2bnRCb0NwNFlRQXZEX0J3RQ..*_gcl_au*ODYwODMzNTQ1LjE3NDIzMTM3NTU.*_ga*MTMxMzc4MTI2MS4xNzE1MDk5NDA1*_ga_CF22GKVCFK*czE3NDczODU3MjkkbzUyJGcxJHQxNzQ3Mzg2MDc2JGo2MCRsMCRoMA..&lesson_tab=lesson)\n",
    "\n",
    "\n",
    "Recall:\n",
    "σ′(x)=σ(x)(1−σ(x))\n",
    "∇E=−(y−y^​)(x1​,…,xn​,1)\n",
    "\n",
    "wi′​←wi​−α[−(y−y^​)xi​],\n",
    "\n",
    "which is equivalent to\n",
    "\n",
    "wi′←wi+α(y−y^)xi.wi′​←wi​+α(y−y^​)xi​.\n",
    "\n",
    "Similarly, it updates the bias in the following way:\n",
    "\n",
    "b′←b+α(y−y^),b′←b+α(y−y^​),\n",
    "\n",
    "Note: Since we've taken the average of the errors, the term we are adding should be 1m⋅αm1​⋅α instead of α,α, but as αα is a constant, then in order to simplify calculations, we'll just take 1m⋅αm1​⋅α to be our learning rate, and abuse the notation by just calling it α.α.\n",
    "\n"
   ]
  },
  {
   "cell_type": "code",
   "execution_count": null,
   "id": "8a134834",
   "metadata": {},
   "outputs": [
    {
     "ename": "NameError",
     "evalue": "name 'link' is not defined",
     "output_type": "error",
     "traceback": [
      "\u001b[1;31m---------------------------------------------------------------------------\u001b[0m",
      "\u001b[1;31mNameError\u001b[0m                                 Traceback (most recent call last)",
      "Input \u001b[1;32mIn [4]\u001b[0m, in \u001b[0;36m<cell line: 1>\u001b[1;34m()\u001b[0m\n\u001b[1;32m----> 1\u001b[0m \u001b[43mlink\u001b[49m \u001b[38;5;129;01min\u001b[39;00m markdown\n",
      "\u001b[1;31mNameError\u001b[0m: name 'link' is not defined"
     ]
    }
   ],
   "source": [
    "\n"
   ]
  },
  {
   "cell_type": "code",
   "execution_count": null,
   "id": "91a8592a",
   "metadata": {},
   "outputs": [
    {
     "data": {
      "text/plain": [
       "True"
      ]
     },
     "execution_count": 3,
     "metadata": {},
     "output_type": "execute_result"
    }
   ],
   "source": []
  },
  {
   "cell_type": "code",
   "execution_count": null,
   "id": "ebe08f73",
   "metadata": {},
   "outputs": [],
   "source": []
  }
 ],
 "metadata": {
  "kernelspec": {
   "display_name": "TorchEnv",
   "language": "python",
   "name": "python3"
  },
  "language_info": {
   "codemirror_mode": {
    "name": "ipython",
    "version": 3
   },
   "file_extension": ".py",
   "mimetype": "text/x-python",
   "name": "python",
   "nbconvert_exporter": "python",
   "pygments_lexer": "ipython3",
   "version": "3.9.12"
  }
 },
 "nbformat": 4,
 "nbformat_minor": 5
}
